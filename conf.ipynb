{
 "cells": [
  {
   "cell_type": "code",
   "execution_count": 1,
   "metadata": {},
   "outputs": [],
   "source": [
    "### Configuration file for Bitcoin Price Alert System\n",
    "\n",
    "telegram_chat_id = \"@bitcoin_alert_channel\"\n",
    "telegram_bot_id = \"bot1389359250:AAFOP_PfH2gf8FBJcfQ7wEPIl01SzjNJ6Jw\"\n",
    "url = \"https://min-api.cryptocompare.com/data/price?fsym=BTC&tsyms=INR\"\n",
    "\n",
    "### Enter predicted Bitcoin Price Below\n",
    "sp_prediction = 820000"
   ]
  },
  {
   "cell_type": "code",
   "execution_count": null,
   "metadata": {},
   "outputs": [],
   "source": []
  }
 ],
 "metadata": {
  "kernelspec": {
   "display_name": "Python 3",
   "language": "python",
   "name": "python3"
  },
  "language_info": {
   "codemirror_mode": {
    "name": "ipython",
    "version": 3
   },
   "file_extension": ".py",
   "mimetype": "text/x-python",
   "name": "python",
   "nbconvert_exporter": "python",
   "pygments_lexer": "ipython3",
   "version": "3.7.7"
  }
 },
 "nbformat": 4,
 "nbformat_minor": 4
}
