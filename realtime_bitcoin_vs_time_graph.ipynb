{
 "cells": [
  {
   "cell_type": "code",
   "execution_count": null,
   "metadata": {},
   "outputs": [],
   "source": [
    "### For plotting Bitcoin value vs time-live\n",
    "\n",
    "%matplotlib notebook\n",
    "plt.rcParams['animation.html'] = 'jshtml'\n",
    "\n",
    "\n",
    "url = \"https://min-api.cryptocompare.com/data/price?fsym=BTC&tsyms=INR\"\n",
    "def get_bitcoin_price():\n",
    "    \n",
    "    response = requests.request(\"GET\",url)\n",
    "    response = json.loads(response.text)\n",
    "    current_price = response[\"INR\"]\n",
    "    return current_price\n",
    "\n",
    "\n",
    "\n",
    "fig = plt.figure()\n",
    "ax = fig.add_subplot(111)\n",
    "fig.show()\n",
    "\n",
    "i = 0\n",
    "x, y = [], []\n",
    "\n",
    "while True:\n",
    "    x.append(i)\n",
    "    y.append(get_bitcoin_price())\n",
    "    \n",
    "    ax.plot(x, y, color ='b')\n",
    "    \n",
    "    fig.canvas.draw()\n",
    "    \n",
    "    time.sleep(30)\n",
    "    i+=1"
   ]
  }
 ],
 "metadata": {
  "kernelspec": {
   "display_name": "Python 3",
   "language": "python",
   "name": "python3"
  },
  "language_info": {
   "codemirror_mode": {
    "name": "ipython",
    "version": 3
   },
   "file_extension": ".py",
   "mimetype": "text/x-python",
   "name": "python",
   "nbconvert_exporter": "python",
   "pygments_lexer": "ipython3",
   "version": "3.7.7"
  }
 },
 "nbformat": 4,
 "nbformat_minor": 4
}
